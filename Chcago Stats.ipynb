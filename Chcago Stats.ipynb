{
 "cells": [
  {
   "cell_type": "markdown",
   "metadata": {},
   "source": [
    "# Bikeshare Project\n",
    "\n",
    "we will use Numpy and Pandas functions to analyse some data about bikeshare accross 3 US cities."
   ]
  },
  {
   "cell_type": "code",
   "execution_count": 1,
   "metadata": {},
   "outputs": [],
   "source": [
    "import numpy as np\n",
    "import pandas as pd"
   ]
  },
  {
   "cell_type": "markdown",
   "metadata": {},
   "source": [
    "## Chicago\n",
    "\n",
    "### Popular times of travel\n",
    "first we will read the files "
   ]
  },
  {
   "cell_type": "code",
   "execution_count": 2,
   "metadata": {},
   "outputs": [],
   "source": [
    "Chicago = pd.read_csv(\"chicago.csv\")"
   ]
  },
  {
   "cell_type": "code",
   "execution_count": 3,
   "metadata": {
    "scrolled": true
   },
   "outputs": [
    {
     "data": {
      "text/html": [
       "<div>\n",
       "<style scoped>\n",
       "    .dataframe tbody tr th:only-of-type {\n",
       "        vertical-align: middle;\n",
       "    }\n",
       "\n",
       "    .dataframe tbody tr th {\n",
       "        vertical-align: top;\n",
       "    }\n",
       "\n",
       "    .dataframe thead th {\n",
       "        text-align: right;\n",
       "    }\n",
       "</style>\n",
       "<table border=\"1\" class=\"dataframe\">\n",
       "  <thead>\n",
       "    <tr style=\"text-align: right;\">\n",
       "      <th></th>\n",
       "      <th>Unnamed: 0</th>\n",
       "      <th>Start Time</th>\n",
       "      <th>End Time</th>\n",
       "      <th>Trip Duration</th>\n",
       "      <th>Start Station</th>\n",
       "      <th>End Station</th>\n",
       "      <th>User Type</th>\n",
       "      <th>Gender</th>\n",
       "      <th>Birth Year</th>\n",
       "    </tr>\n",
       "  </thead>\n",
       "  <tbody>\n",
       "    <tr>\n",
       "      <th>0</th>\n",
       "      <td>1423854</td>\n",
       "      <td>2017-06-23 15:09:32</td>\n",
       "      <td>2017-06-23 15:14:53</td>\n",
       "      <td>321</td>\n",
       "      <td>Wood St &amp; Hubbard St</td>\n",
       "      <td>Damen Ave &amp; Chicago Ave</td>\n",
       "      <td>Subscriber</td>\n",
       "      <td>Male</td>\n",
       "      <td>1992.0</td>\n",
       "    </tr>\n",
       "    <tr>\n",
       "      <th>1</th>\n",
       "      <td>955915</td>\n",
       "      <td>2017-05-25 18:19:03</td>\n",
       "      <td>2017-05-25 18:45:53</td>\n",
       "      <td>1610</td>\n",
       "      <td>Theater on the Lake</td>\n",
       "      <td>Sheffield Ave &amp; Waveland Ave</td>\n",
       "      <td>Subscriber</td>\n",
       "      <td>Female</td>\n",
       "      <td>1992.0</td>\n",
       "    </tr>\n",
       "    <tr>\n",
       "      <th>2</th>\n",
       "      <td>9031</td>\n",
       "      <td>2017-01-04 08:27:49</td>\n",
       "      <td>2017-01-04 08:34:45</td>\n",
       "      <td>416</td>\n",
       "      <td>May St &amp; Taylor St</td>\n",
       "      <td>Wood St &amp; Taylor St</td>\n",
       "      <td>Subscriber</td>\n",
       "      <td>Male</td>\n",
       "      <td>1981.0</td>\n",
       "    </tr>\n",
       "    <tr>\n",
       "      <th>3</th>\n",
       "      <td>304487</td>\n",
       "      <td>2017-03-06 13:49:38</td>\n",
       "      <td>2017-03-06 13:55:28</td>\n",
       "      <td>350</td>\n",
       "      <td>Christiana Ave &amp; Lawrence Ave</td>\n",
       "      <td>St. Louis Ave &amp; Balmoral Ave</td>\n",
       "      <td>Subscriber</td>\n",
       "      <td>Male</td>\n",
       "      <td>1986.0</td>\n",
       "    </tr>\n",
       "    <tr>\n",
       "      <th>4</th>\n",
       "      <td>45207</td>\n",
       "      <td>2017-01-17 14:53:07</td>\n",
       "      <td>2017-01-17 15:02:01</td>\n",
       "      <td>534</td>\n",
       "      <td>Clark St &amp; Randolph St</td>\n",
       "      <td>Desplaines St &amp; Jackson Blvd</td>\n",
       "      <td>Subscriber</td>\n",
       "      <td>Male</td>\n",
       "      <td>1975.0</td>\n",
       "    </tr>\n",
       "    <tr>\n",
       "      <th>...</th>\n",
       "      <td>...</td>\n",
       "      <td>...</td>\n",
       "      <td>...</td>\n",
       "      <td>...</td>\n",
       "      <td>...</td>\n",
       "      <td>...</td>\n",
       "      <td>...</td>\n",
       "      <td>...</td>\n",
       "      <td>...</td>\n",
       "    </tr>\n",
       "    <tr>\n",
       "      <th>299995</th>\n",
       "      <td>64825</td>\n",
       "      <td>2017-01-21 13:18:00</td>\n",
       "      <td>2017-01-21 13:27:50</td>\n",
       "      <td>590</td>\n",
       "      <td>Orleans St &amp; Elm St (*)</td>\n",
       "      <td>Sheffield Ave &amp; Webster Ave</td>\n",
       "      <td>Subscriber</td>\n",
       "      <td>Male</td>\n",
       "      <td>1965.0</td>\n",
       "    </tr>\n",
       "    <tr>\n",
       "      <th>299996</th>\n",
       "      <td>695993</td>\n",
       "      <td>2017-04-28 19:32:19</td>\n",
       "      <td>2017-04-28 19:51:18</td>\n",
       "      <td>1139</td>\n",
       "      <td>Ashland Ave &amp; Blackhawk St</td>\n",
       "      <td>Clark St &amp; Elm St</td>\n",
       "      <td>Customer</td>\n",
       "      <td>NaN</td>\n",
       "      <td>NaN</td>\n",
       "    </tr>\n",
       "    <tr>\n",
       "      <th>299997</th>\n",
       "      <td>159685</td>\n",
       "      <td>2017-02-12 09:59:01</td>\n",
       "      <td>2017-02-12 10:21:49</td>\n",
       "      <td>1368</td>\n",
       "      <td>Ravenswood Ave &amp; Lawrence Ave</td>\n",
       "      <td>Stockton Dr &amp; Wrightwood Ave</td>\n",
       "      <td>Subscriber</td>\n",
       "      <td>Female</td>\n",
       "      <td>1988.0</td>\n",
       "    </tr>\n",
       "    <tr>\n",
       "      <th>299998</th>\n",
       "      <td>564681</td>\n",
       "      <td>2017-04-16 17:07:15</td>\n",
       "      <td>2017-04-16 17:19:00</td>\n",
       "      <td>705</td>\n",
       "      <td>Sheffield Ave &amp; Willow St</td>\n",
       "      <td>Clark St &amp; Chicago Ave</td>\n",
       "      <td>Customer</td>\n",
       "      <td>NaN</td>\n",
       "      <td>NaN</td>\n",
       "    </tr>\n",
       "    <tr>\n",
       "      <th>299999</th>\n",
       "      <td>1021247</td>\n",
       "      <td>2017-05-30 12:38:28</td>\n",
       "      <td>2017-05-30 12:55:36</td>\n",
       "      <td>1028</td>\n",
       "      <td>Wacker Dr &amp; Washington St</td>\n",
       "      <td>Damen Ave &amp; Division St</td>\n",
       "      <td>Subscriber</td>\n",
       "      <td>Male</td>\n",
       "      <td>1984.0</td>\n",
       "    </tr>\n",
       "  </tbody>\n",
       "</table>\n",
       "<p>300000 rows × 9 columns</p>\n",
       "</div>"
      ],
      "text/plain": [
       "        Unnamed: 0           Start Time             End Time  Trip Duration  \\\n",
       "0          1423854  2017-06-23 15:09:32  2017-06-23 15:14:53            321   \n",
       "1           955915  2017-05-25 18:19:03  2017-05-25 18:45:53           1610   \n",
       "2             9031  2017-01-04 08:27:49  2017-01-04 08:34:45            416   \n",
       "3           304487  2017-03-06 13:49:38  2017-03-06 13:55:28            350   \n",
       "4            45207  2017-01-17 14:53:07  2017-01-17 15:02:01            534   \n",
       "...            ...                  ...                  ...            ...   \n",
       "299995       64825  2017-01-21 13:18:00  2017-01-21 13:27:50            590   \n",
       "299996      695993  2017-04-28 19:32:19  2017-04-28 19:51:18           1139   \n",
       "299997      159685  2017-02-12 09:59:01  2017-02-12 10:21:49           1368   \n",
       "299998      564681  2017-04-16 17:07:15  2017-04-16 17:19:00            705   \n",
       "299999     1021247  2017-05-30 12:38:28  2017-05-30 12:55:36           1028   \n",
       "\n",
       "                        Start Station                   End Station  \\\n",
       "0                Wood St & Hubbard St       Damen Ave & Chicago Ave   \n",
       "1                 Theater on the Lake  Sheffield Ave & Waveland Ave   \n",
       "2                  May St & Taylor St           Wood St & Taylor St   \n",
       "3       Christiana Ave & Lawrence Ave  St. Louis Ave & Balmoral Ave   \n",
       "4              Clark St & Randolph St  Desplaines St & Jackson Blvd   \n",
       "...                               ...                           ...   \n",
       "299995        Orleans St & Elm St (*)   Sheffield Ave & Webster Ave   \n",
       "299996     Ashland Ave & Blackhawk St             Clark St & Elm St   \n",
       "299997  Ravenswood Ave & Lawrence Ave  Stockton Dr & Wrightwood Ave   \n",
       "299998      Sheffield Ave & Willow St        Clark St & Chicago Ave   \n",
       "299999      Wacker Dr & Washington St       Damen Ave & Division St   \n",
       "\n",
       "         User Type  Gender  Birth Year  \n",
       "0       Subscriber    Male      1992.0  \n",
       "1       Subscriber  Female      1992.0  \n",
       "2       Subscriber    Male      1981.0  \n",
       "3       Subscriber    Male      1986.0  \n",
       "4       Subscriber    Male      1975.0  \n",
       "...            ...     ...         ...  \n",
       "299995  Subscriber    Male      1965.0  \n",
       "299996    Customer     NaN         NaN  \n",
       "299997  Subscriber  Female      1988.0  \n",
       "299998    Customer     NaN         NaN  \n",
       "299999  Subscriber    Male      1984.0  \n",
       "\n",
       "[300000 rows x 9 columns]"
      ]
     },
     "execution_count": 3,
     "metadata": {},
     "output_type": "execute_result"
    }
   ],
   "source": [
    "Chicago"
   ]
  },
  {
   "cell_type": "code",
   "execution_count": 4,
   "metadata": {},
   "outputs": [],
   "source": [
    "Chicago[\"Start Time\"] = pd.to_datetime(Chicago[\"Start Time\"])\n"
   ]
  },
  {
   "cell_type": "code",
   "execution_count": 5,
   "metadata": {},
   "outputs": [],
   "source": [
    "Chicago[\"End Time\"] = pd.to_datetime(Chicago[\"End Time\"])"
   ]
  },
  {
   "cell_type": "code",
   "execution_count": 6,
   "metadata": {},
   "outputs": [],
   "source": [
    "Most_Common_Month = Chicago[\"Start Time\"].dt.month.mode()"
   ]
  },
  {
   "cell_type": "code",
   "execution_count": 7,
   "metadata": {},
   "outputs": [
    {
     "data": {
      "text/plain": [
       "0    6\n",
       "dtype: int64"
      ]
     },
     "execution_count": 7,
     "metadata": {},
     "output_type": "execute_result"
    }
   ],
   "source": [
    "Most_Common_Month\n"
   ]
  },
  {
   "cell_type": "code",
   "execution_count": 8,
   "metadata": {},
   "outputs": [
    {
     "name": "stdout",
     "output_type": "stream",
     "text": [
      "6    98081\n",
      "5    66755\n",
      "4    51659\n",
      "2    32057\n",
      "3    29639\n",
      "1    21809\n",
      "Name: Start Time, dtype: int64\n",
      "98081\n"
     ]
    }
   ],
   "source": [
    "Most_Common_Month_Count = Chicago[\"Start Time\"].dt.month.value_counts(sort = True)\n",
    "print(Most_Common_Month_Count )\n",
    "Most_Common_Month_Count = Most_Common_Month_Count.iloc[0]\n",
    "print(Most_Common_Month_Count)"
   ]
  },
  {
   "cell_type": "code",
   "execution_count": 9,
   "metadata": {},
   "outputs": [
    {
     "name": "stdout",
     "output_type": "stream",
     "text": [
      "0    1\n",
      "dtype: int64\n"
     ]
    }
   ],
   "source": [
    "Most_common_day_of_week = Chicago[\"Start Time\"].dt.dayofweek.mode()\n",
    "print(Most_common_day_of_week)"
   ]
  },
  {
   "cell_type": "code",
   "execution_count": 10,
   "metadata": {},
   "outputs": [
    {
     "name": "stdout",
     "output_type": "stream",
     "text": [
      "1    45912\n",
      "0    44881\n",
      "4    43922\n",
      "3    43095\n",
      "2    42530\n",
      "5    40885\n",
      "6    38775\n",
      "Name: Start Time, dtype: int64\n",
      "45912\n"
     ]
    }
   ],
   "source": [
    "Most_common_day_of_week_count = Chicago[\"Start Time\"].dt.dayofweek.value_counts()\n",
    "print(Most_common_day_of_week_count)\n",
    "Most_common_day_of_week_count = Most_common_day_of_week_count.iloc[0]\n",
    "print(Most_common_day_of_week_count)"
   ]
  },
  {
   "cell_type": "code",
   "execution_count": 11,
   "metadata": {},
   "outputs": [
    {
     "name": "stdout",
     "output_type": "stream",
     "text": [
      "0    17\n",
      "dtype: int64\n"
     ]
    }
   ],
   "source": [
    "Most_common_Hour = Chicago[\"Start Time\"].dt.hour.mode()\n",
    "print(Most_common_Hour)"
   ]
  },
  {
   "cell_type": "code",
   "execution_count": 12,
   "metadata": {
    "scrolled": true
   },
   "outputs": [
    {
     "name": "stdout",
     "output_type": "stream",
     "text": [
      "17    35992\n",
      "16    28742\n",
      "8     24134\n",
      "18    23512\n",
      "15    20108\n",
      "7     18380\n",
      "14    17596\n",
      "13    17559\n",
      "12    17467\n",
      "19    15715\n",
      "11    15040\n",
      "9     13691\n",
      "10    11952\n",
      "20    10301\n",
      "6      8246\n",
      "21     7103\n",
      "22     4895\n",
      "23     3014\n",
      "5      2437\n",
      "0      1686\n",
      "1       982\n",
      "2       609\n",
      "4       467\n",
      "3       372\n",
      "Name: Start Time, dtype: int64\n",
      "35992\n"
     ]
    }
   ],
   "source": [
    "Most_common_Hour_count = Chicago[\"Start Time\"].dt.hour.value_counts()\n",
    "print(Most_common_Hour_count)\n",
    "Most_common_Hour_count = Most_common_Hour_count.iloc[0]\n",
    "print(Most_common_Hour_count)"
   ]
  },
  {
   "cell_type": "markdown",
   "metadata": {},
   "source": [
    "***\n",
    "### Popular stations and trips \n",
    "\n"
   ]
  },
  {
   "cell_type": "code",
   "execution_count": 13,
   "metadata": {},
   "outputs": [
    {
     "name": "stdout",
     "output_type": "stream",
     "text": [
      "0    Streeter Dr & Grand Ave\n",
      "dtype: object\n"
     ]
    }
   ],
   "source": [
    "Most_common_start_station = Chicago[\"Start Station\"].mode()\n",
    "print(Most_common_start_station)"
   ]
  },
  {
   "cell_type": "code",
   "execution_count": 14,
   "metadata": {},
   "outputs": [
    {
     "name": "stdout",
     "output_type": "stream",
     "text": [
      "Streeter Dr & Grand Ave         6911\n",
      "Clinton St & Washington Blvd    4306\n",
      "Lake Shore Dr & Monroe St       4289\n",
      "Clinton St & Madison St         3744\n",
      "Canal St & Adams St             3443\n",
      "                                ... \n",
      "Ellis Ave & 83rd St                1\n",
      "Throop St & 52nd St                1\n",
      "Laramie Ave & Kinzie St            1\n",
      "Morgan St & Pershing Rd            1\n",
      "Greenwood Ave & 79th St            1\n",
      "Name: Start Station, Length: 568, dtype: int64\n",
      "6911\n"
     ]
    }
   ],
   "source": [
    "Most_common_start_station_count = Chicago[\"Start Station\"].value_counts()\n",
    "print(Most_common_start_station_count)\n",
    "Most_common_start_station_count = Most_common_start_station_count.iloc[0]\n",
    "print(Most_common_start_station_count)"
   ]
  },
  {
   "cell_type": "code",
   "execution_count": 15,
   "metadata": {},
   "outputs": [
    {
     "name": "stdout",
     "output_type": "stream",
     "text": [
      "0    Streeter Dr & Grand Ave\n",
      "dtype: object\n"
     ]
    }
   ],
   "source": [
    "Most_common_end_station = Chicago[\"End Station\"].mode()\n",
    "print(Most_common_end_station)"
   ]
  },
  {
   "cell_type": "code",
   "execution_count": 16,
   "metadata": {},
   "outputs": [
    {
     "name": "stdout",
     "output_type": "stream",
     "text": [
      "Streeter Dr & Grand Ave         7512\n",
      "Clinton St & Washington Blvd    4166\n",
      "Lake Shore Dr & Monroe St       4016\n",
      "Clinton St & Madison St         4014\n",
      "Lake Shore Dr & North Blvd      3863\n",
      "                                ... \n",
      "Woodlawn Ave & 75th St             1\n",
      "Perry Ave & 69th St                1\n",
      "Racine Ave & 61st St               1\n",
      "Halsted St & 51st St               1\n",
      "Kostner Ave & Adams St             1\n",
      "Name: End Station, Length: 572, dtype: int64\n",
      "7512\n"
     ]
    }
   ],
   "source": [
    "Most_common_end_station_count = Chicago[\"End Station\"].value_counts()\n",
    "print(Most_common_end_station_count)\n",
    "Most_common_end_station_count = Most_common_end_station_count.iloc[0]\n",
    "print(Most_common_end_station_count)"
   ]
  },
  {
   "cell_type": "code",
   "execution_count": 17,
   "metadata": {},
   "outputs": [
    {
     "name": "stdout",
     "output_type": "stream",
     "text": [
      "('Lake Shore Dr & Monroe St', 'Streeter Dr & Grand Ave')\n"
     ]
    }
   ],
   "source": [
    "most_start_finish = Chicago.groupby([\"Start Station\",\"End Station\"]).size().idxmax()\n",
    "print(most_start_finish)"
   ]
  },
  {
   "cell_type": "code",
   "execution_count": 18,
   "metadata": {},
   "outputs": [
    {
     "data": {
      "text/plain": [
       "Start Station                  End Station                 \n",
       "Lake Shore Dr & Monroe St      Streeter Dr & Grand Ave         854\n",
       "Streeter Dr & Grand Ave        Streeter Dr & Grand Ave         712\n",
       "                               Theater on the Lake             561\n",
       "                               Lake Shore Dr & North Blvd      538\n",
       "                               Lake Shore Dr & Monroe St       526\n",
       "                                                              ... \n",
       "Lake Shore Dr & Diversey Pkwy  Ashland Ave & Lake St             1\n",
       "                               Ashland Ave & Wrightwood Ave      1\n",
       "                               Broadway & Granville Ave          1\n",
       "                               Broadway & Sheridan Rd            1\n",
       "2112 W Peterson Ave            2112 W Peterson Ave               1\n",
       "Length: 47115, dtype: int64"
      ]
     },
     "execution_count": 18,
     "metadata": {},
     "output_type": "execute_result"
    }
   ],
   "source": [
    "  Chicago[[\"Start Station\",\"End Station\"]].value_counts(sort=True)"
   ]
  },
  {
   "cell_type": "code",
   "execution_count": 19,
   "metadata": {},
   "outputs": [
    {
     "name": "stdout",
     "output_type": "stream",
     "text": [
      "854\n"
     ]
    }
   ],
   "source": [
    "most_start_finish_count =   Chicago[[\"Start Station\",\"End Station\"]].value_counts(sort=True).iloc[0]\n",
    "print(most_start_finish_count)"
   ]
  },
  {
   "cell_type": "markdown",
   "metadata": {},
   "source": [
    "***\n",
    "\n",
    "### Trip duration\n"
   ]
  },
  {
   "cell_type": "code",
   "execution_count": 20,
   "metadata": {},
   "outputs": [],
   "source": [
    "Total_Travel_Time = Chicago[\"Trip Duration\"].sum()"
   ]
  },
  {
   "cell_type": "code",
   "execution_count": 21,
   "metadata": {},
   "outputs": [
    {
     "data": {
      "text/plain": [
       "280871787"
      ]
     },
     "execution_count": 21,
     "metadata": {},
     "output_type": "execute_result"
    }
   ],
   "source": [
    "Total_Travel_Time"
   ]
  },
  {
   "cell_type": "code",
   "execution_count": 22,
   "metadata": {},
   "outputs": [],
   "source": [
    "Average_Travel_Time = Chicago[\"Trip Duration\"].mean()"
   ]
  },
  {
   "cell_type": "code",
   "execution_count": 23,
   "metadata": {},
   "outputs": [
    {
     "data": {
      "text/plain": [
       "936.23929"
      ]
     },
     "execution_count": 23,
     "metadata": {},
     "output_type": "execute_result"
    }
   ],
   "source": [
    "Average_Travel_Time"
   ]
  },
  {
   "cell_type": "markdown",
   "metadata": {},
   "source": [
    "***\n",
    "### User info"
   ]
  },
  {
   "cell_type": "code",
   "execution_count": 24,
   "metadata": {},
   "outputs": [],
   "source": [
    "User_Type_count = Chicago[\"User Type\"].value_counts()"
   ]
  },
  {
   "cell_type": "code",
   "execution_count": 25,
   "metadata": {},
   "outputs": [
    {
     "data": {
      "text/plain": [
       "Subscriber    238889\n",
       "Customer       61110\n",
       "Dependent          1\n",
       "Name: User Type, dtype: int64"
      ]
     },
     "execution_count": 25,
     "metadata": {},
     "output_type": "execute_result"
    }
   ],
   "source": [
    "User_Type_count"
   ]
  },
  {
   "cell_type": "code",
   "execution_count": 26,
   "metadata": {},
   "outputs": [],
   "source": [
    "Gender_count = Chicago[\"Gender\"].value_counts()"
   ]
  },
  {
   "cell_type": "code",
   "execution_count": 27,
   "metadata": {},
   "outputs": [
    {
     "data": {
      "text/plain": [
       "Male      181190\n",
       "Female     57758\n",
       "Name: Gender, dtype: int64"
      ]
     },
     "execution_count": 27,
     "metadata": {},
     "output_type": "execute_result"
    }
   ],
   "source": [
    "Gender_count"
   ]
  },
  {
   "cell_type": "code",
   "execution_count": 28,
   "metadata": {},
   "outputs": [
    {
     "name": "stdout",
     "output_type": "stream",
     "text": [
      "0    1989.0\n",
      "dtype: float64\n"
     ]
    }
   ],
   "source": [
    "most_common_birth_year = Chicago[\"Birth Year\"].mode()\n",
    "print(most_common_birth_year)"
   ]
  },
  {
   "cell_type": "code",
   "execution_count": 29,
   "metadata": {},
   "outputs": [
    {
     "data": {
      "text/plain": [
       "1989.0    14666\n",
       "1988.0    12490\n",
       "1991.0    12397\n",
       "1990.0    12378\n",
       "1987.0    11939\n",
       "          ...  \n",
       "2002.0        2\n",
       "1909.0        2\n",
       "2003.0        2\n",
       "1931.0        1\n",
       "2004.0        1\n",
       "Name: Birth Year, Length: 79, dtype: int64"
      ]
     },
     "execution_count": 29,
     "metadata": {},
     "output_type": "execute_result"
    }
   ],
   "source": [
    "Chicago[\"Birth Year\"].value_counts()"
   ]
  },
  {
   "cell_type": "code",
   "execution_count": 30,
   "metadata": {},
   "outputs": [
    {
     "name": "stdout",
     "output_type": "stream",
     "text": [
      "14666\n"
     ]
    }
   ],
   "source": [
    "most_common_birth_year_count = Chicago[\"Birth Year\"].value_counts().iloc[0]\n",
    "print(most_common_birth_year_count)"
   ]
  },
  {
   "cell_type": "code",
   "execution_count": 31,
   "metadata": {
    "scrolled": true
   },
   "outputs": [],
   "source": [
    "Chicago = Chicago.sort_values(by = [\"Start Time\"],kind='heapsort',ascending=False)"
   ]
  },
  {
   "cell_type": "code",
   "execution_count": 32,
   "metadata": {
    "scrolled": true
   },
   "outputs": [
    {
     "data": {
      "text/html": [
       "<div>\n",
       "<style scoped>\n",
       "    .dataframe tbody tr th:only-of-type {\n",
       "        vertical-align: middle;\n",
       "    }\n",
       "\n",
       "    .dataframe tbody tr th {\n",
       "        vertical-align: top;\n",
       "    }\n",
       "\n",
       "    .dataframe thead th {\n",
       "        text-align: right;\n",
       "    }\n",
       "</style>\n",
       "<table border=\"1\" class=\"dataframe\">\n",
       "  <thead>\n",
       "    <tr style=\"text-align: right;\">\n",
       "      <th></th>\n",
       "      <th>Unnamed: 0</th>\n",
       "      <th>Start Time</th>\n",
       "      <th>End Time</th>\n",
       "      <th>Trip Duration</th>\n",
       "      <th>Start Station</th>\n",
       "      <th>End Station</th>\n",
       "      <th>User Type</th>\n",
       "      <th>Gender</th>\n",
       "      <th>Birth Year</th>\n",
       "    </tr>\n",
       "  </thead>\n",
       "  <tbody>\n",
       "    <tr>\n",
       "      <th>103455</th>\n",
       "      <td>1551500</td>\n",
       "      <td>2017-06-30 23:59:01</td>\n",
       "      <td>2017-07-01 00:08:41</td>\n",
       "      <td>580</td>\n",
       "      <td>Damen Ave &amp; Division St</td>\n",
       "      <td>Halsted St &amp; Blackhawk St (*)</td>\n",
       "      <td>Subscriber</td>\n",
       "      <td>Male</td>\n",
       "      <td>1990.0</td>\n",
       "    </tr>\n",
       "    <tr>\n",
       "      <th>297429</th>\n",
       "      <td>1551497</td>\n",
       "      <td>2017-06-30 23:58:13</td>\n",
       "      <td>2017-07-01 00:24:22</td>\n",
       "      <td>1569</td>\n",
       "      <td>Southport Ave &amp; Clybourn Ave</td>\n",
       "      <td>Spaulding Ave &amp; Armitage Ave</td>\n",
       "      <td>Subscriber</td>\n",
       "      <td>Female</td>\n",
       "      <td>1989.0</td>\n",
       "    </tr>\n",
       "    <tr>\n",
       "      <th>217630</th>\n",
       "      <td>1551482</td>\n",
       "      <td>2017-06-30 23:53:16</td>\n",
       "      <td>2017-07-01 00:02:53</td>\n",
       "      <td>577</td>\n",
       "      <td>Wells St &amp; Concord Ln</td>\n",
       "      <td>Theater on the Lake</td>\n",
       "      <td>Subscriber</td>\n",
       "      <td>Male</td>\n",
       "      <td>1986.0</td>\n",
       "    </tr>\n",
       "    <tr>\n",
       "      <th>287266</th>\n",
       "      <td>1551480</td>\n",
       "      <td>2017-06-30 23:53:05</td>\n",
       "      <td>2017-07-01 00:12:52</td>\n",
       "      <td>1187</td>\n",
       "      <td>Ellis Ave &amp; 55th St</td>\n",
       "      <td>Cottage Grove Ave &amp; 47th St</td>\n",
       "      <td>Subscriber</td>\n",
       "      <td>Male</td>\n",
       "      <td>1987.0</td>\n",
       "    </tr>\n",
       "    <tr>\n",
       "      <th>285748</th>\n",
       "      <td>1551484</td>\n",
       "      <td>2017-06-30 23:52:56</td>\n",
       "      <td>2017-07-01 00:03:48</td>\n",
       "      <td>652</td>\n",
       "      <td>Damen Ave &amp; Clybourn Ave</td>\n",
       "      <td>Ashland Ave &amp; Wrightwood Ave</td>\n",
       "      <td>Subscriber</td>\n",
       "      <td>Male</td>\n",
       "      <td>1991.0</td>\n",
       "    </tr>\n",
       "    <tr>\n",
       "      <th>...</th>\n",
       "      <td>...</td>\n",
       "      <td>...</td>\n",
       "      <td>...</td>\n",
       "      <td>...</td>\n",
       "      <td>...</td>\n",
       "      <td>...</td>\n",
       "      <td>...</td>\n",
       "      <td>...</td>\n",
       "      <td>...</td>\n",
       "    </tr>\n",
       "    <tr>\n",
       "      <th>266974</th>\n",
       "      <td>27</td>\n",
       "      <td>2017-01-01 00:35:26</td>\n",
       "      <td>2017-01-01 00:47:54</td>\n",
       "      <td>748</td>\n",
       "      <td>Larrabee St &amp; Menomonee St</td>\n",
       "      <td>Clark St &amp; Wrightwood Ave</td>\n",
       "      <td>Subscriber</td>\n",
       "      <td>Male</td>\n",
       "      <td>1990.0</td>\n",
       "    </tr>\n",
       "    <tr>\n",
       "      <th>279377</th>\n",
       "      <td>17</td>\n",
       "      <td>2017-01-01 00:27:21</td>\n",
       "      <td>2017-01-01 00:42:59</td>\n",
       "      <td>938</td>\n",
       "      <td>Millennium Park</td>\n",
       "      <td>Michigan Ave &amp; 18th St</td>\n",
       "      <td>Subscriber</td>\n",
       "      <td>Male</td>\n",
       "      <td>1991.0</td>\n",
       "    </tr>\n",
       "    <tr>\n",
       "      <th>296013</th>\n",
       "      <td>15</td>\n",
       "      <td>2017-01-01 00:25:47</td>\n",
       "      <td>2017-01-01 00:43:23</td>\n",
       "      <td>1056</td>\n",
       "      <td>Clark St &amp; Congress Pkwy</td>\n",
       "      <td>Wolcott Ave &amp; Polk St</td>\n",
       "      <td>Subscriber</td>\n",
       "      <td>Male</td>\n",
       "      <td>1984.0</td>\n",
       "    </tr>\n",
       "    <tr>\n",
       "      <th>25190</th>\n",
       "      <td>10</td>\n",
       "      <td>2017-01-01 00:17:13</td>\n",
       "      <td>2017-01-01 11:03:34</td>\n",
       "      <td>38781</td>\n",
       "      <td>Wilton Ave &amp; Diversey Pkwy</td>\n",
       "      <td>Halsted St &amp; Wrightwood Ave</td>\n",
       "      <td>Subscriber</td>\n",
       "      <td>Female</td>\n",
       "      <td>1988.0</td>\n",
       "    </tr>\n",
       "    <tr>\n",
       "      <th>68107</th>\n",
       "      <td>4</td>\n",
       "      <td>2017-01-01 00:07:57</td>\n",
       "      <td>2017-01-01 00:20:53</td>\n",
       "      <td>776</td>\n",
       "      <td>Broadway &amp; Barry Ave</td>\n",
       "      <td>Sedgwick St &amp; North Ave</td>\n",
       "      <td>Subscriber</td>\n",
       "      <td>Male</td>\n",
       "      <td>1990.0</td>\n",
       "    </tr>\n",
       "  </tbody>\n",
       "</table>\n",
       "<p>300000 rows × 9 columns</p>\n",
       "</div>"
      ],
      "text/plain": [
       "        Unnamed: 0          Start Time            End Time  Trip Duration  \\\n",
       "103455     1551500 2017-06-30 23:59:01 2017-07-01 00:08:41            580   \n",
       "297429     1551497 2017-06-30 23:58:13 2017-07-01 00:24:22           1569   \n",
       "217630     1551482 2017-06-30 23:53:16 2017-07-01 00:02:53            577   \n",
       "287266     1551480 2017-06-30 23:53:05 2017-07-01 00:12:52           1187   \n",
       "285748     1551484 2017-06-30 23:52:56 2017-07-01 00:03:48            652   \n",
       "...            ...                 ...                 ...            ...   \n",
       "266974          27 2017-01-01 00:35:26 2017-01-01 00:47:54            748   \n",
       "279377          17 2017-01-01 00:27:21 2017-01-01 00:42:59            938   \n",
       "296013          15 2017-01-01 00:25:47 2017-01-01 00:43:23           1056   \n",
       "25190           10 2017-01-01 00:17:13 2017-01-01 11:03:34          38781   \n",
       "68107            4 2017-01-01 00:07:57 2017-01-01 00:20:53            776   \n",
       "\n",
       "                       Start Station                    End Station  \\\n",
       "103455       Damen Ave & Division St  Halsted St & Blackhawk St (*)   \n",
       "297429  Southport Ave & Clybourn Ave   Spaulding Ave & Armitage Ave   \n",
       "217630         Wells St & Concord Ln            Theater on the Lake   \n",
       "287266           Ellis Ave & 55th St    Cottage Grove Ave & 47th St   \n",
       "285748      Damen Ave & Clybourn Ave   Ashland Ave & Wrightwood Ave   \n",
       "...                              ...                            ...   \n",
       "266974    Larrabee St & Menomonee St      Clark St & Wrightwood Ave   \n",
       "279377               Millennium Park         Michigan Ave & 18th St   \n",
       "296013      Clark St & Congress Pkwy          Wolcott Ave & Polk St   \n",
       "25190     Wilton Ave & Diversey Pkwy    Halsted St & Wrightwood Ave   \n",
       "68107           Broadway & Barry Ave        Sedgwick St & North Ave   \n",
       "\n",
       "         User Type  Gender  Birth Year  \n",
       "103455  Subscriber    Male      1990.0  \n",
       "297429  Subscriber  Female      1989.0  \n",
       "217630  Subscriber    Male      1986.0  \n",
       "287266  Subscriber    Male      1987.0  \n",
       "285748  Subscriber    Male      1991.0  \n",
       "...            ...     ...         ...  \n",
       "266974  Subscriber    Male      1990.0  \n",
       "279377  Subscriber    Male      1991.0  \n",
       "296013  Subscriber    Male      1984.0  \n",
       "25190   Subscriber  Female      1988.0  \n",
       "68107   Subscriber    Male      1990.0  \n",
       "\n",
       "[300000 rows x 9 columns]"
      ]
     },
     "execution_count": 32,
     "metadata": {},
     "output_type": "execute_result"
    }
   ],
   "source": [
    "Chicago"
   ]
  },
  {
   "cell_type": "code",
   "execution_count": 33,
   "metadata": {},
   "outputs": [
    {
     "name": "stdout",
     "output_type": "stream",
     "text": [
      "1990.0\n"
     ]
    }
   ],
   "source": [
    "most_recent_year = Chicago.iloc[0,-1]\n",
    "print(most_recent_year)"
   ]
  },
  {
   "cell_type": "markdown",
   "metadata": {},
   "source": [
    "***"
   ]
  }
 ],
 "metadata": {
  "kernelspec": {
   "display_name": "Python 3",
   "language": "python",
   "name": "python3"
  },
  "language_info": {
   "codemirror_mode": {
    "name": "ipython",
    "version": 3
   },
   "file_extension": ".py",
   "mimetype": "text/x-python",
   "name": "python",
   "nbconvert_exporter": "python",
   "pygments_lexer": "ipython3",
   "version": "3.8.2"
  }
 },
 "nbformat": 4,
 "nbformat_minor": 4
}
